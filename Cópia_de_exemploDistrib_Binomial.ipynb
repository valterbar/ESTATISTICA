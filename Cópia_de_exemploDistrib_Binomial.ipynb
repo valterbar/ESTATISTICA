{
  "nbformat": 4,
  "nbformat_minor": 0,
  "metadata": {
    "colab": {
      "provenance": [],
      "authorship_tag": "ABX9TyPIqD8DY3Tj0/2FoR/7pFxb",
      "include_colab_link": true
    },
    "kernelspec": {
      "name": "python3",
      "display_name": "Python 3"
    },
    "language_info": {
      "name": "python"
    }
  },
  "cells": [
    {
      "cell_type": "markdown",
      "metadata": {
        "id": "view-in-github",
        "colab_type": "text"
      },
      "source": [
        "<a href=\"https://colab.research.google.com/github/valterbar/ESTATISTICA/blob/main/C%C3%B3pia_de_exemploDistrib_Binomial.ipynb\" target=\"_parent\"><img src=\"https://colab.research.google.com/assets/colab-badge.svg\" alt=\"Open In Colab\"/></a>"
      ]
    },
    {
      "cell_type": "code",
      "source": [],
      "metadata": {
        "id": "MDxIeivIFkQl"
      },
      "execution_count": null,
      "outputs": []
    },
    {
      "cell_type": "code",
      "source": [],
      "metadata": {
        "id": "jNZXW9IfGrGC"
      },
      "execution_count": null,
      "outputs": []
    },
    {
      "cell_type": "markdown",
      "source": [
        "EX. PROBABILIADE DE UM EVENTUAL CLIENTE"
      ],
      "metadata": {
        "id": "RogerrhPkPQJ"
      }
    },
    {
      "cell_type": "markdown",
      "source": [
        "abaixo distribuicao binomial\n",
        "Número de tentativas (n): 12\n",
        "Probabilidade de sucesso em cada tentativa (p): .25\n",
        "Número de sucessos desejados (k): 7\n",
        "A probabilidade de obter 7 sucessos em 12 tentativas é 0.0115\n"
      ],
      "metadata": {
        "id": "zIgCRhEIDD5Z"
      }
    },
    {
      "cell_type": "code",
      "source": [
        "from scipy.stats import binom\n",
        "\n",
        "# Obtenha\n",
        " #os valores de entrada do usuário\n",
        "n = int(input(\"Número de tentativas (n): \"))\n",
        "p = float(input(\"Probabilidade de sucesso em cada tentativa (p): \"))\n",
        "k = int(input(\"Número de sucessos desejados (k): \"))\n",
        "\n",
        "# Calcular a probabilidade de obter k sucessos\n",
        "probabilidade = binom.pmf(k, n, p)\n",
        "\n",
        "# Calcular a probabilidade de obter menos de k sucessos  ###VALTER PS P(X>= K)= 1 - P(\n",
        "probabilidade_menos_que_k = binom.cdf(k - 1, n, p)\n",
        "\n",
        "# Calcular a probabilidade de obter pelo menos k sucessos\n",
        "probabilidade_pelo_menos_k = 1 - binom.cdf(k - 1, n, p)\n",
        "\n",
        "# Imprimir os resultados\n",
        "print(f\"A probabilidade de obter {k} sucessos em {n} tentativas é {probabilidade:.4f}\")\n",
        "# print(f\"A probabilidade de obter menos de {k} sucessos em {n} tentativas é {probabilidade_menos_que_k:.4f}\")\n",
        "# print(f\"A probabilidade de obter pelo menos {k} sucessos em {n} tentativas é {probabilidade_pelo_menos_k:.4f}\")\n"
      ],
      "metadata": {
        "id": "9fSUddfiHtWM",
        "colab": {
          "base_uri": "https://localhost:8080/"
        },
        "outputId": "f5420713-3d8a-4c2c-f2ac-f3471d4d8359"
      },
      "execution_count": null,
      "outputs": [
        {
          "output_type": "stream",
          "name": "stdout",
          "text": [
            "Número de tentativas (n): 5\n",
            "Probabilidade de sucesso em cada tentativa (p): .5\n",
            "Número de sucessos desejados (k): 3\n",
            "A probabilidade de obter 3 sucessos em 5 tentativas é 0.3125\n"
          ]
        }
      ]
    },
    {
      "cell_type": "code",
      "source": [],
      "metadata": {
        "id": "6L7K7JDsj0Uq"
      },
      "execution_count": null,
      "outputs": []
    }
  ]
}